{
 "cells": [
  {
   "cell_type": "markdown",
   "id": "136947c4-e057-4395-b873-a989c9008307",
   "metadata": {
    "editable": true,
    "slideshow": {
     "slide_type": ""
    },
    "tags": []
   },
   "source": [
    "UM MSBA - BGEN 632\n",
    "\n",
    "# Week 2 Instructor-led Lab\n",
    "\n",
    "In this assignment you will create basic code showcasing the concepts you learned about in the tutorial. \n",
    "\n",
    "**Create Code cells below this Markdown cell to complete the assignment. Write and run your code. To get full points, your submitted notebook must include saved output in addition to written code.** \n",
    "\n",
    "For this assignment, you are not required to create any Markdown cells but you are encouraged to do so to improve the aesthetics and organization of your lab submission. \n",
    "\n",
    "As stated in the syllabus, you <ins>must</ins> include information about your use of online resources to complete assignments, including chatbots like ChatGPT. You can include reference information within your notebooks and/or within separate files pushed to your repo on GitHub. Failure to disclose the use of online resources is a violation of course policy.\n",
    "\n",
    "## Assigning Values\n",
    "\n",
    "For this portion of the assignment, you will create variables in your notebook. You will assign a value to each variable. Please perform the following tasks and create each variable by assigning the following values:\n",
    "\n",
    "* my_int assign it a number between 1 and 20, inclusive.\n",
    "* long_a assign it the number 6,323,527,192.\n",
    "* float_pi assign it the number 3.14159\n",
    "* my_double assign it a fractional number with 13 decimals.\n",
    "* decimal_a assign it a fractional number with 20 decimals.\n",
    "* big_griz assign it the value G (uppercase).\n",
    "* my_hello assign it a greeting to the entire class.\n",
    "* my_goodbye assign it a farewell to your class.\n",
    "\n",
    "## Single Line Comments\n",
    "\n",
    "At the end of each variable, on the same line, place a single-line comment with a short description of each variable. For example, it would look like this:\n",
    "\n",
    "```\n",
    "new_double = 38.936921934     # A double with 9 decimal places\n",
    "```\n",
    "\n",
    "## Print Output\n",
    "\n",
    "Now that you have assigned values to your variables, let's print them. Output each variable individually.\n",
    "\n",
    "## Type Conversion\n",
    "\n",
    "The last task you have for this lab involves type conversion. Create new variables with the following types, names, and values. Use an explicit type conversion.\n",
    "\n",
    "* `int` named my_new_int with a number between 1 and 20, inclusive.\n",
    "* `float` named float_b with value 3.14159.\n",
    "  \n",
    "Output both variables. \n",
    "\n",
    "---"
   ]
  },
  {
   "cell_type": "code",
   "execution_count": 2,
   "id": "d66e4214-94a0-47c8-8db0-6d044515b322",
   "metadata": {},
   "outputs": [],
   "source": [
    "my_int = 12    # An integer between 1 and 20"
   ]
  },
  {
   "cell_type": "code",
   "execution_count": 4,
   "id": "3378e542-5722-4ff2-bcc4-d3ebe32a16e7",
   "metadata": {},
   "outputs": [
    {
     "data": {
      "text/plain": [
       "12"
      ]
     },
     "execution_count": 4,
     "metadata": {},
     "output_type": "execute_result"
    }
   ],
   "source": [
    "my_int"
   ]
  },
  {
   "cell_type": "code",
   "execution_count": 14,
   "id": "294614bb-09fe-46f1-a500-08e6bab65ea5",
   "metadata": {},
   "outputs": [],
   "source": [
    "long_a = 6323527192    # A long ten-digit number"
   ]
  },
  {
   "cell_type": "code",
   "execution_count": 16,
   "id": "6941970c-3dd1-4c65-ad05-a811ea1c24c4",
   "metadata": {},
   "outputs": [
    {
     "data": {
      "text/plain": [
       "6323527192"
      ]
     },
     "execution_count": 16,
     "metadata": {},
     "output_type": "execute_result"
    }
   ],
   "source": [
    "long_a"
   ]
  },
  {
   "cell_type": "code",
   "execution_count": 18,
   "id": "97e4d8ae-6f8c-4859-b8a7-1f1ada1c1f9b",
   "metadata": {},
   "outputs": [],
   "source": [
    "float_pi = 3.14159    # The number pi with 5 decimals"
   ]
  },
  {
   "cell_type": "code",
   "execution_count": 20,
   "id": "3cf53a89-ba12-4a0f-96e5-e36c81650383",
   "metadata": {},
   "outputs": [
    {
     "data": {
      "text/plain": [
       "3.14159"
      ]
     },
     "execution_count": 20,
     "metadata": {},
     "output_type": "execute_result"
    }
   ],
   "source": [
    "float_pi"
   ]
  },
  {
   "cell_type": "code",
   "execution_count": 22,
   "id": "96dac096-1908-46da-bbdd-30af4289ca97",
   "metadata": {},
   "outputs": [],
   "source": [
    "my_double = 0.4035087719298    #the fraction of 23/57, a number with 13 decimals"
   ]
  },
  {
   "cell_type": "code",
   "execution_count": 26,
   "id": "b92bf22f-39bd-4489-82df-11f05e45c387",
   "metadata": {},
   "outputs": [
    {
     "data": {
      "text/plain": [
       "0.4035087719298"
      ]
     },
     "execution_count": 26,
     "metadata": {},
     "output_type": "execute_result"
    }
   ],
   "source": [
    "my_double"
   ]
  },
  {
   "cell_type": "code",
   "execution_count": 28,
   "id": "e6272270-3183-4dc4-bce1-d9a3a3314b23",
   "metadata": {},
   "outputs": [],
   "source": [
    "decimal_a = 0.44186046511627906977    #the fraction of 19/43, a number with 20 decimals"
   ]
  },
  {
   "cell_type": "code",
   "execution_count": 30,
   "id": "a31d3f32-37e4-4b23-a95e-e040a70f6a7a",
   "metadata": {},
   "outputs": [
    {
     "data": {
      "text/plain": [
       "0.4418604651162791"
      ]
     },
     "execution_count": 30,
     "metadata": {},
     "output_type": "execute_result"
    }
   ],
   "source": [
    "decimal_a"
   ]
  },
  {
   "cell_type": "code",
   "execution_count": 34,
   "id": "71e8249f-8381-48c0-9b15-6fd4beebb733",
   "metadata": {},
   "outputs": [],
   "source": [
    "big_griz = 'G'    #The letter G"
   ]
  },
  {
   "cell_type": "code",
   "execution_count": 36,
   "id": "e40d0b1e-c2fd-4d88-ba9e-3c71e67e42f2",
   "metadata": {},
   "outputs": [
    {
     "data": {
      "text/plain": [
       "'G'"
      ]
     },
     "execution_count": 36,
     "metadata": {},
     "output_type": "execute_result"
    }
   ],
   "source": [
    "big_griz"
   ]
  },
  {
   "cell_type": "code",
   "execution_count": 42,
   "id": "4c9388d8-1f13-4f14-9d96-bad834482268",
   "metadata": {},
   "outputs": [],
   "source": [
    "my_hello = 'Hello guys!'    # A greeting to my class"
   ]
  },
  {
   "cell_type": "code",
   "execution_count": 44,
   "id": "e40e68e0-cf32-4a6e-bf3d-2b9c27f3585b",
   "metadata": {},
   "outputs": [
    {
     "data": {
      "text/plain": [
       "'Hello guys!'"
      ]
     },
     "execution_count": 44,
     "metadata": {},
     "output_type": "execute_result"
    }
   ],
   "source": [
    "my_hello"
   ]
  },
  {
   "cell_type": "code",
   "execution_count": 46,
   "id": "88b9109e-ee75-413b-9429-afb86a0be6c8",
   "metadata": {},
   "outputs": [],
   "source": [
    "my_goodbye = 'Bye, see you next week!'    # A goodbye to my class"
   ]
  },
  {
   "cell_type": "code",
   "execution_count": 48,
   "id": "7dd70426-1fce-499e-a575-219893dfd253",
   "metadata": {},
   "outputs": [
    {
     "data": {
      "text/plain": [
       "'Bye, see you next week!'"
      ]
     },
     "execution_count": 48,
     "metadata": {},
     "output_type": "execute_result"
    }
   ],
   "source": [
    "my_goodbye"
   ]
  },
  {
   "cell_type": "code",
   "execution_count": 50,
   "id": "a2278e07-d288-4aaa-863b-412a9e9d9e69",
   "metadata": {},
   "outputs": [],
   "source": [
    "my_new_int = int(13)"
   ]
  },
  {
   "cell_type": "code",
   "execution_count": 52,
   "id": "3c75197f-7e76-4600-bda1-0efcb7a1fb98",
   "metadata": {},
   "outputs": [
    {
     "data": {
      "text/plain": [
       "13"
      ]
     },
     "execution_count": 52,
     "metadata": {},
     "output_type": "execute_result"
    }
   ],
   "source": [
    "my_new_int"
   ]
  },
  {
   "cell_type": "code",
   "execution_count": 54,
   "id": "02c04020-76b8-4db8-99cf-f1b777c9774d",
   "metadata": {},
   "outputs": [],
   "source": [
    "float_b = float(3.14159)"
   ]
  },
  {
   "cell_type": "code",
   "execution_count": 56,
   "id": "7c14d35c-20ad-4ffe-a81e-d59d07e384fe",
   "metadata": {},
   "outputs": [
    {
     "data": {
      "text/plain": [
       "3.14159"
      ]
     },
     "execution_count": 56,
     "metadata": {},
     "output_type": "execute_result"
    }
   ],
   "source": [
    "float_b"
   ]
  },
  {
   "cell_type": "code",
   "execution_count": null,
   "id": "2f83840e-afd3-441a-b4cc-f35c42180949",
   "metadata": {},
   "outputs": [],
   "source": []
  }
 ],
 "metadata": {
  "kernelspec": {
   "display_name": "Python [conda env:base] *",
   "language": "python",
   "name": "conda-base-py"
  },
  "language_info": {
   "codemirror_mode": {
    "name": "ipython",
    "version": 3
   },
   "file_extension": ".py",
   "mimetype": "text/x-python",
   "name": "python",
   "nbconvert_exporter": "python",
   "pygments_lexer": "ipython3",
   "version": "3.12.7"
  }
 },
 "nbformat": 4,
 "nbformat_minor": 5
}
