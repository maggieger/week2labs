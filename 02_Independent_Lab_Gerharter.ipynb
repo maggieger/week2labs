{
 "cells": [
  {
   "cell_type": "markdown",
   "id": "fd305a9b-5bc2-4eb4-83da-62696584a8d6",
   "metadata": {},
   "source": [
    "**UM MSBA - BGEN 632**\n",
    "**02 Independent Lab**\n",
    "**Magdalena Gerharter**\n",
    "**10.03.2025**\n",
    "\n",
    "## Maggie's Celsius to Fahrenheit Converter"
   ]
  },
  {
   "cell_type": "markdown",
   "id": "bdaba6f7-f9e6-4f40-9e2f-c980f506b275",
   "metadata": {},
   "source": [
    "Welcome to my Celsius to Fahrenheit Converter. This converter will be based on the following equation:\n",
    "Fahrenheit = (9/5) * Celsius + 32"
   ]
  },
  {
   "cell_type": "code",
   "execution_count": 5,
   "id": "f3c564aa-1bef-49ec-a17c-486cecea5b76",
   "metadata": {},
   "outputs": [],
   "source": [
    "celsius = 0.0"
   ]
  },
  {
   "cell_type": "code",
   "execution_count": 6,
   "id": "953d5cc7-7155-4685-9f64-d06fdd880c20",
   "metadata": {},
   "outputs": [],
   "source": [
    "fahrenheit = 0.0"
   ]
  },
  {
   "cell_type": "markdown",
   "id": "03ff856c-b7f5-4277-bb9f-5bcd222cdd63",
   "metadata": {},
   "source": [
    "We use float because we have a number with decimals"
   ]
  },
  {
   "cell_type": "code",
   "execution_count": 8,
   "id": "82a3356d-8641-4717-a4d4-ce698aab903e",
   "metadata": {},
   "outputs": [
    {
     "name": "stdin",
     "output_type": "stream",
     "text": [
      "Please provide a value, in Celsius, to convert :\n",
      " 37\n"
     ]
    }
   ],
   "source": [
    "text = float(input(\"Please provide a value, in Celsius, to convert :\\n\"))"
   ]
  },
  {
   "cell_type": "code",
   "execution_count": 9,
   "id": "263ffc3e-2c72-4850-8b17-616126cd57b6",
   "metadata": {},
   "outputs": [],
   "source": [
    "celsius = text"
   ]
  },
  {
   "cell_type": "code",
   "execution_count": 10,
   "id": "3c1ac532-1442-4b10-8c59-23c80063368d",
   "metadata": {},
   "outputs": [],
   "source": [
    "fahrenheit = (9/5)*celsius+32"
   ]
  },
  {
   "cell_type": "code",
   "execution_count": 11,
   "id": "8dfedab1-d54a-4cd5-87b0-4debebaadb02",
   "metadata": {},
   "outputs": [
    {
     "name": "stdout",
     "output_type": "stream",
     "text": [
      "37.0 degrees celsius is 98.60000000000001 degrees fahrenheit.\n"
     ]
    }
   ],
   "source": [
    "print(f\"{celsius} degrees celsius is {fahrenheit} degrees fahrenheit.\")"
   ]
  },
  {
   "cell_type": "code",
   "execution_count": 12,
   "id": "f1acd0fe-900d-486c-9dad-9851384ea851",
   "metadata": {},
   "outputs": [],
   "source": [
    "int_fahrenheit = int(fahrenheit)"
   ]
  },
  {
   "cell_type": "markdown",
   "id": "98e0cba9-6907-4c28-9746-92761b239e3b",
   "metadata": {},
   "source": [
    "I am using type() to check the data type"
   ]
  },
  {
   "cell_type": "code",
   "execution_count": 14,
   "id": "8e13d904-68ab-40e4-b241-7cf2c3c6eb7a",
   "metadata": {},
   "outputs": [
    {
     "data": {
      "text/plain": [
       "int"
      ]
     },
     "execution_count": 14,
     "metadata": {},
     "output_type": "execute_result"
    }
   ],
   "source": [
    "type(int_fahrenheit)"
   ]
  },
  {
   "cell_type": "code",
   "execution_count": 15,
   "id": "6bc2a480-567b-49c9-9ef0-4994c48a69b7",
   "metadata": {},
   "outputs": [
    {
     "data": {
      "text/plain": [
       "'Converted fahrenheit in integer: 98'"
      ]
     },
     "execution_count": 15,
     "metadata": {},
     "output_type": "execute_result"
    }
   ],
   "source": [
    "f\"Converted fahrenheit in integer: {int_fahrenheit}\""
   ]
  },
  {
   "cell_type": "markdown",
   "id": "dab9dade-94b9-4dea-a50e-7df1fe04e6a5",
   "metadata": {},
   "source": []
  }
 ],
 "metadata": {
  "kernelspec": {
   "display_name": "Python [conda env:base] *",
   "language": "python",
   "name": "conda-base-py"
  },
  "language_info": {
   "codemirror_mode": {
    "name": "ipython",
    "version": 3
   },
   "file_extension": ".py",
   "mimetype": "text/x-python",
   "name": "python",
   "nbconvert_exporter": "python",
   "pygments_lexer": "ipython3",
   "version": "3.12.7"
  }
 },
 "nbformat": 4,
 "nbformat_minor": 5
}
